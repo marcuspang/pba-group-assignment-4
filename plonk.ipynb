{
 "cells": [
  {
   "cell_type": "markdown",
   "metadata": {},
   "source": [
    "## What does our ZKP look like \n",
    "\n",
    "We have a bunch of stuff \n",
    "\n",
    "1. A witness which is information that lets us make the proof in our case this is knowledge of a variable x that satisfies our eqation. It also includes the intermediate values that are zkp uses. This is secret to the user they want to prove this information.\n",
    "2. A set of gate constraints. Basically that all the multiplicaions and addition we do are correct. \n",
    "3. A copy constriant check\n",
    "4. Input / output checks"
   ]
  },
  {
   "cell_type": "markdown",
   "metadata": {},
   "source": [
    "# Plonk Tutorial\n",
    "This tutorial is based upon https://www.vitalik.ca/general/2019/09/22/plonk.html it expands upon the ideas described there and teaches the user to build their own plonk implemenation in python.\n",
    "\n",
    "This tutorial takes to forum of a series of challenges where the user eventually build a plonk implmentation of a single proof. \n",
    "\n",
    "Plonk allows us to make arbitary zero knoledge proofs. For the purposes of this tutorial we will prove that we know an x such that  $P(x) = x^3 + x + 5 = 35$ this is a toy problem\n",
    "\n",
    "![](https://vitalik.ca/files/posts_files/plonk-files/Circuit.png)\n",
    "\n",
    "You can see we have two kinds of constraints gate constraints and copy constraints. A constraint is like an assertion from python. The program can only continue running if this assertion is true.\n",
    "\n",
    "We will first handle the gate constraints and then tackle the copy constraints. "
   ]
  },
  {
   "cell_type": "markdown",
   "metadata": {},
   "source": [
    "## Gen witness"
   ]
  },
  {
   "cell_type": "markdown",
   "metadata": {},
   "source": [
    "So lets first find a satisfying solution to the probelm we are trying to make proofs about $x^3 + x + 5 = 35$\n",
    "\n",
    "The variables a, b and c will be the checking of additions / multiplicaions operatirons. Where we define `a + b == c` or `a * b == c`"
   ]
  },
  {
   "cell_type": "code",
   "execution_count": 1,
   "metadata": {
    "metadata": {}
   },
   "outputs": [],
   "source": [
    "\n",
    "\n",
    "def gen_witness(x, y, z):\n",
    "    a = [x,     y,      z,      x*x]\n",
    "    b = [x,     y,      z,      y*y]\n",
    "    c = [x*x,   y*y,    z*z,    z*z]\n",
    "    return(a,b,c)"
   ]
  },
  {
   "cell_type": "markdown",
   "metadata": {},
   "source": [
    "Right so now that we have a, b , c we are ready to test. `is_satisfied` tests that our witness matches the constraints we are planing to add. \n",
    "\n",
    "Basically a[0] * b[0] = c[0] check this is a multiplicaion\n",
    "a[2] + b[2] = c[2] check this is an addition."
   ]
  },
  {
   "cell_type": "code",
   "execution_count": 2,
   "metadata": {
    "metadata": {}
   },
   "outputs": [],
   "source": [
    "def is_satisfied_witness(a, b, c):\n",
    "    assert(a[0] * b[0] == c[0])\n",
    "    assert(a[1] * b[1] == c[1])\n",
    "    assert(a[2] * b[2] == c[2])\n",
    "    assert(a[3] + b[3] == c[3])"
   ]
  },
  {
   "cell_type": "code",
   "execution_count": 3,
   "metadata": {
    "metadata": {}
   },
   "outputs": [],
   "source": [
    "# from plonk.sample_problem import gen_witness, is_satisfied_witness\n",
    "\n",
    "a, b , c = gen_witness(3, 4, 5)\n",
    "\n",
    "# Uncomment the next line and run\n",
    "is_satisfied_witness(a,b,c)"
   ]
  },
  {
   "cell_type": "markdown",
   "metadata": {},
   "source": [
    "Reader should investigate why this fails and why the next passes"
   ]
  },
  {
   "cell_type": "code",
   "execution_count": 4,
   "metadata": {
    "metadata": {}
   },
   "outputs": [
    {
     "ename": "AssertionError",
     "evalue": "",
     "output_type": "error",
     "traceback": [
      "\u001b[0;31m---------------------------------------------------------------------------\u001b[0m",
      "\u001b[0;31mAssertionError\u001b[0m                            Traceback (most recent call last)",
      "Cell \u001b[0;32mIn[4], line 2\u001b[0m\n\u001b[1;32m      1\u001b[0m a, b , c \u001b[38;5;241m=\u001b[39m gen_witness(\u001b[38;5;241m1\u001b[39m, \u001b[38;5;241m2\u001b[39m, \u001b[38;5;241m3\u001b[39m)\n\u001b[0;32m----> 2\u001b[0m \u001b[43mis_satisfied_witness\u001b[49m\u001b[43m(\u001b[49m\u001b[43ma\u001b[49m\u001b[43m,\u001b[49m\u001b[43mb\u001b[49m\u001b[43m,\u001b[49m\u001b[43mc\u001b[49m\u001b[43m)\u001b[49m\n",
      "Cell \u001b[0;32mIn[2], line 5\u001b[0m, in \u001b[0;36mis_satisfied_witness\u001b[0;34m(a, b, c)\u001b[0m\n\u001b[1;32m      3\u001b[0m \u001b[38;5;28;01massert\u001b[39;00m(a[\u001b[38;5;241m1\u001b[39m] \u001b[38;5;241m*\u001b[39m b[\u001b[38;5;241m1\u001b[39m] \u001b[38;5;241m==\u001b[39m c[\u001b[38;5;241m1\u001b[39m])\n\u001b[1;32m      4\u001b[0m \u001b[38;5;28;01massert\u001b[39;00m(a[\u001b[38;5;241m2\u001b[39m] \u001b[38;5;241m*\u001b[39m b[\u001b[38;5;241m2\u001b[39m] \u001b[38;5;241m==\u001b[39m c[\u001b[38;5;241m2\u001b[39m])\n\u001b[0;32m----> 5\u001b[0m \u001b[38;5;28;01massert\u001b[39;00m(a[\u001b[38;5;241m3\u001b[39m] \u001b[38;5;241m+\u001b[39m b[\u001b[38;5;241m3\u001b[39m] \u001b[38;5;241m==\u001b[39m c[\u001b[38;5;241m3\u001b[39m])\n",
      "\u001b[0;31mAssertionError\u001b[0m: "
     ]
    }
   ],
   "source": [
    "a, b , c = gen_witness(1, 2, 3)\n",
    "is_satisfied_witness(a,b,c)"
   ]
  },
  {
   "cell_type": "markdown",
   "metadata": {},
   "source": [
    "## In plonk everything is a polynomial\n",
    "\n",
    "In the previous section we generated our witness. A witness is a valid solution to our constraints. Where here our constraints are $x^3 + x + 5 == 35$\n",
    "\n",
    "Next we want to define the actual constraints. They will be defined as a polynomial. Lets start out by creating a function eval_poly which takes a polynomial and evaluates it at a given point. Take the polynomial $1 + x + x^2 = y$ which is defined by this list [1,1,1] from lowest degree (ie starting at the $1*x^0$ ) to highest (1*x^2) "
   ]
  },
  {
   "cell_type": "code",
   "execution_count": 6,
   "metadata": {
    "metadata": {}
   },
   "outputs": [],
   "source": [
    "## User input here.\n",
    "def eval_poly(coef, x):\n",
    "    res = []\n",
    "    power = 1\n",
    "    for i in coef:\n",
    "        res.append(i * power)\n",
    "        power = power * x\n",
    "    return(round(sum(res)))"
   ]
  },
  {
   "cell_type": "code",
   "execution_count": 7,
   "metadata": {
    "metadata": {}
   },
   "outputs": [],
   "source": [
    "assert(eval_poly([1,1,1], 2) == 7 )\n",
    "assert(eval_poly([-2, 7, -5, 1], 0) == -2)\n",
    "assert(eval_poly([-2, 7, -5, 1], 1) == 1)\n",
    "assert(eval_poly([-2, 7, -5, 1], 2) == 0)\n",
    "assert(eval_poly([-2, 7, -5, 1], 3) == 1)"
   ]
  },
  {
   "cell_type": "markdown",
   "metadata": {},
   "source": [
    "Okay now it seems out polynomial evaluations are working :)\n",
    "\n",
    "Our mul / add constraint is defined by $\\left(Q_{L_{i}}\\right) a_{i}+\\left(Q_{R_{i}}\\right) b_{i}+\\left(Q_{O_{i}}\\right) c_{i}+\\left(Q_{M_{i}}\\right) a_{i} b_{i}+Q_{C_{i}}=0$ we can use this to check additions and multiplications. Define the constraint polynomial.\n"
   ]
  },
  {
   "cell_type": "code",
   "execution_count": 8,
   "metadata": {
    "metadata": {}
   },
   "outputs": [],
   "source": [
    "def constraint_polynomial(Qli, Qri, Qmi, Qoi, Qci, ai, bi, ci):\n",
    "    return(Qli*ai + Qri*bi + Qoi*ci + Qmi*ai*bi + Qci == 0)\n",
    "\n",
    "def validate_native(Ql, Qr, Qm, Qo, Qc, a, b, c):\n",
    "    for Qli,Qri,Qmi,Qoi,Qci,ai,bi,ci in zip (Ql,Qr,Qm,Qo,Qc,a,b,c):\n",
    "        if (constraint_polynomial(Qli,Qri,Qmi,Qoi,Qci,ai,bi,ci) == False):\n",
    "            return(False)\n",
    "    return(True)"
   ]
  },
  {
   "cell_type": "code",
   "execution_count": 9,
   "metadata": {
    "metadata": {}
   },
   "outputs": [],
   "source": [
    "def test_addition():\n",
    "    # constraints\n",
    "    Ql = [1]\n",
    "    Qr = [1]\n",
    "    Qm = [0]\n",
    "    Qo = [-1]\n",
    "    Qc = [0]\n",
    "\n",
    "    # witness\n",
    "    a = [0]\n",
    "    b = [1]\n",
    "    c = [1]\n",
    "\n",
    "    assert ( validate_native(Ql, Qr, Qm, Qo, Qc, a, b, c) == True)\n",
    "\n",
    "\n",
    "def test_mul():\n",
    "\n",
    "    # constraints\n",
    "    Ql = [0]\n",
    "    Qr = [0]\n",
    "    Qm = [1]\n",
    "    Qo = [-1]\n",
    "    Qc = [0]\n",
    "\n",
    "    # witness\n",
    "    a = [1]\n",
    "    b = [1]\n",
    "    c = [1]\n",
    "\n",
    "    assert ( validate_native(Ql, Qr, Qm, Qo, Qc, a, b, c) == True)\n",
    "\n",
    "\n",
    "\n",
    "def test_constant():\n",
    "    # constraints\n",
    "    Ql = [1]\n",
    "    Qr = [1]\n",
    "    Qm = [0]\n",
    "    Qo = [0]\n",
    "    Qc = [-10]\n",
    "\n",
    "    # witness\n",
    "    a = [10]\n",
    "    b = [0]\n",
    "    c = [10]\n",
    "\n",
    "    assert ( validate_native(Ql, Qr, Qm, Qo, Qc, a, b, c) == True)\n",
    "\n",
    "test_addition()\n",
    "test_mul()\n",
    "test_constant()\n",
    "\n"
   ]
  },
  {
   "cell_type": "markdown",
   "metadata": {},
   "source": [
    "Okay so now we are doing multiplicaions and additions. We can validate manually that all of these are being done correctly. Right so this is working we can make constraints. So lets make all the constraints for our system. First lets make some helpers that drop the constraints where we need then make sure they pass the tests :)"
   ]
  },
  {
   "cell_type": "code",
   "execution_count": 10,
   "metadata": {
    "metadata": {}
   },
   "outputs": [],
   "source": [
    "from plonk.constraint import add_add_constarint, add_mul_constarint, add_constant_constraint"
   ]
  },
  {
   "cell_type": "markdown",
   "metadata": {},
   "source": [
    "Okay now lets add the actual constraints. By setting Ql, Qr, Qm , Qo and Qc such that it evaluates to a multipicion constaint at Ql[0] and an addition at Ql[2]. "
   ]
  },
  {
   "cell_type": "code",
   "execution_count": 11,
   "metadata": {
    "metadata": {}
   },
   "outputs": [],
   "source": [
    "def gen_constraints():\n",
    "    # Prove that I know an X such that x*x + y*y = z*z\n",
    "\n",
    "    \"\"\"\n",
    "    Ql  a   +  Qr   b   + Qo   c   + Qm   a*b  + Qc    = 0\n",
    "    1 * x   *   1 * x   + -1 * x*x   ~    ~      ~     = 0\n",
    "    1 * y   *   1 * y   + -1 * y*y   ~    ~      ~     = 0\n",
    "    1 * z   *   1 * z   + -1 * z*z   ~    ~      ~     = 0\n",
    "    1 * x*x +   1 * y*y +  ~   ~     ~    ~      -z*z  = 0\n",
    "    \"\"\"\n",
    "\n",
    "    # init constraints\n",
    "    Ql = [1, 1, 1, 1]\n",
    "    Qr = [1, 1, 1, 1]\n",
    "    Qm = [0, 0, 0, -1]\n",
    "    Qo = [-1, -1, -1, 0]\n",
    "    Qc = [0, 0, 0, 0]\n",
    "\n",
    "    # set constraints\n",
    "    # Ql, Qr, Qm, Qo, Qc = add_mul_constarint(Ql, Qr, Qm, Qo, Qc)\n",
    "    # Ql, Qr, Qm, Qo, Qc = add_mul_constarint(Ql, Qr, Qm, Qo, Qc)\n",
    "    # Ql, Qr, Qm, Qo, Qc = add_add_constarint(Ql, Qr, Qm, Qo, Qc)\n",
    "    # Ql, Qr, Qm, Qo, Qc = add_constant_constraint(Ql, Qr, Qm, Qo, Qc, 5)\n",
    "    # # todo add a constant constraint for 1\n",
    "    # Ql, Qr, Qm, Qo, Qc = add_add_constarint(Ql, Qr, Qm, Qo, Qc)\n",
    "    return(Ql, Qr, Qm, Qo, Qc)"
   ]
  },
  {
   "cell_type": "markdown",
   "metadata": {},
   "source": [
    "## Copy constraints \n",
    "So at the moment the system is not secure. Basically we are checking that the variables at location \n",
    "\n",
    "1. `a[0] * b[0] == c[0]` \n",
    "2. `a[1] * b[1] == c[1]`\n",
    "3. `a[2] + b[2] == c[2]`\n",
    "\n",
    "\n",
    "But we are just hoping that `a[1] == c[0]` we need to add constraints to make sure that we copy c[0] to a[1] these are called copy constraints you may also have heard of them refered to as permutation arguments. \n",
    "\n",
    "TODO: Do the actual attack\n",
    "\n",
    "The naive thing to do is to do these checks manually. Basically make sure that each variable is equal to the other. The probelm with this is that it means that we need to check every variable which breaks privacy and succintness. Instead we will find a way to do this check using polynomials. "
   ]
  },
  {
   "cell_type": "markdown",
   "metadata": {},
   "source": [
    "Right now we have our witness which is `witness = a + b + c` and we want to prove that the value at `witness[0] == witness[8] == witness[7] == witness[6]` all of these values corresponding to our initial x. \n",
    "\n",
    "So now we need to make 3 polynomials the first to return the index of witness we want to look up, `witness_x_1`. The second `witness_x_2` to return the index after the permutation has been applied. And the third witness_y which returns the actual value of that witness at a given index. \n",
    "\n",
    "Write code that returns all of these. \n",
    "\n",
    "hint: use `from scipy.interpolate import lagrange` to interpolate a polynomial that passes through several points. "
   ]
  },
  {
   "cell_type": "code",
   "execution_count": 12,
   "metadata": {
    "metadata": {}
   },
   "outputs": [
    {
     "name": "stdout",
     "output_type": "stream",
     "text": [
      "Requirement already satisfied: scipy in ./env/lib/python3.9/site-packages (1.13.1)\n",
      "Requirement already satisfied: numpy<2.3,>=1.22.4 in ./env/lib/python3.9/site-packages (from scipy) (1.26.4)\n",
      "\u001b[33mWARNING: You are using pip version 21.2.4; however, version 24.0 is available.\n",
      "You should consider upgrading via the '/Users/marcuspang/Desktop/Coding/pba/group-assignment-4/env/bin/python -m pip install --upgrade pip' command.\u001b[0m\n",
      "Note: you may need to restart the kernel to use updated packages.\n"
     ]
    }
   ],
   "source": [
    "%pip install scipy"
   ]
  },
  {
   "cell_type": "code",
   "execution_count": 13,
   "metadata": {
    "metadata": {}
   },
   "outputs": [],
   "source": [
    "# Lets do the first. write fird permutation yourself\n",
    "from plonk.copy_constraint import find_permutation\n",
    "from plonk.poly import polynomial_eval\n",
    "\n",
    "witness = a + b + c\n",
    "eval_domain = range(0,len(witness))\n",
    "witness_x_a = find_permutation(range(0,len(a)), range(0,len(a)))\n",
    "witness_x_b = find_permutation(range(len(a),len(b)*2), range(len(a),len(b)*2))\n",
    "witness_x_c = find_permutation(range(len(b)*2, len(c)*3), range(len(a)*2,len(a)*3))\n",
    "\n",
    "witness_y = find_permutation(witness, eval_domain)\n",
    "\n",
    "for i, val in enumerate(witness):\n",
    "    assert(val == polynomial_eval(witness_y, i))\n"
   ]
  },
  {
   "cell_type": "markdown",
   "metadata": {},
   "source": [
    "The test code below checks that witness_y returns the same results when we use the permutated indexes or the non permuated version. This means that each value there matches. "
   ]
  },
  {
   "cell_type": "code",
   "execution_count": 14,
   "metadata": {
    "metadata": {}
   },
   "outputs": [],
   "source": [
    "# Okay now lets rearrange it so that the values get swapped when they match\n",
    "# from plonk.sample_problem import gen_copy_constraints\n",
    "\n",
    "def gen_copy_constraints():\n",
    "\n",
    "    # copy constraints\n",
    "    # a = [x , x*x, x*x*x, 1,  1, x*x*x + x]\n",
    "    # b = [x , x, x, 5, 35, 5]\n",
    "    # c = [x*x, x*x*x , x + x*x*x ,5, 35, 35]\n",
    "    # inputs  = [x , x*x, x*x*x, 1,  1,\n",
    "    #           x*x*x + x, x , x, x, 5, 35, 5\n",
    "    #           x*x, x*x*x , x + x*x*x ,5, 35, 35]\n",
    "\n",
    "    \"\"\"\n",
    "    Ql  a   +  Qr   b   + Qo   c   + Qm   ab  +  Qc = 0\n",
    "    1 * x   *   1 * x   + -1 * x*x   ~    ~      ~  = 0\n",
    "    1 * y   *   1 * y   + -1 * y*y   ~    ~      ~  = 0\n",
    "    1 * z   *   1 * z   + -1 * z*z   ~    ~      ~  = 0\n",
    "    1 * x*x +   1 * y*y + -1 * z*z   ~    ~      ~  = 0\n",
    "\n",
    "    init constraints\n",
    "    Ql = [1, 1, 1, 1]\n",
    "    Qr = [1, 1, 1, 1]\n",
    "    Qm = [0, 0, 0, -1]\n",
    "    Qo = [-1, -1, -1, 0]\n",
    "    Qc = [0, 0, 0, 0]\n",
    "\n",
    "    a = [x, y, z, x*x]\n",
    "    b = [x, y, z, y*y]\n",
    "    c = [x*x, y*y, z*z, 0]\n",
    "\n",
    "    copy_constraints = [x, y, z, x*x, x, y, z, y*y, x*x, y*y, z*z, 0]\n",
    "    \"\"\"\n",
    "    copy_constraints = [4, 5, 6, 8, 0, 1, 2, 9, 3, 7, 11, 10]\n",
    "    # copy_constraints = [8, 12, 13, 3, 4, 14, 0, 6, 7, 15, 17, 9, 1, 2, 5, 11, 10, 16]\n",
    "\n",
    "    eval_domain = range(0, len(copy_constraints))\n",
    "\n",
    "    x_a_prime = find_permutation(copy_constraints[0:4], eval_domain[0:4])\n",
    "    x_b_prime = find_permutation(copy_constraints[4:8], eval_domain[4:8])\n",
    "    x_c_prime = find_permutation(copy_constraints[8:12], eval_domain[8:12])\n",
    "\n",
    "    return (x_a_prime, x_b_prime, x_c_prime, copy_constraints)\n",
    "\n",
    "witness_x_a_perm, witness_x_b_perm, witness_x_c_perm, copy_constraints = gen_copy_constraints()\n",
    "copy_constraints\n",
    "for i in range(0,len(a)):\n",
    "    assert(polynomial_eval(witness_y , polynomial_eval(witness_x_a, i)) ==\n",
    "           polynomial_eval (witness_y ,polynomial_eval(witness_x_a_perm, i)))\n",
    "\n",
    "for i in range(len(a), len(a)*2):\n",
    "    assert(polynomial_eval(witness_y , polynomial_eval(witness_x_b, i)) ==\n",
    "           polynomial_eval (witness_y ,polynomial_eval(witness_x_b_perm, i)))\n",
    "\n",
    "for i in range(len(a)*2, len(a)*3):\n",
    "    assert(polynomial_eval(witness_y , polynomial_eval(witness_x_c, i)) ==\n",
    "           polynomial_eval (witness_y ,polynomial_eval(witness_x_c_perm, i)))\n"
   ]
  },
  {
   "cell_type": "markdown",
   "metadata": {},
   "source": [
    "So now we have a way of checking permutations with polynomials. But we still need to check every variable which means we have not really gained anything. So next we will embed these three polynomials in a third such that we can check batches of permutations at once. \n",
    "\n",
    "To do this we take a random linear combination of witness_x_1 and witness_y. $rlc = v1 + wintess_{x_1} + v2*witness_y$\n",
    "\n",
    "Then we calculate P(x) where P(0) = 1 and $P(x+1) = p(x)* rlc$\n",
    "\n",
    "Then we do the same for witness_x_2 calculating P_2(x). Because v1 and v2 are random numbers we know that P_1(i) == P_2(i) if and only if witness_Y gives the same results when evaluated on witness_x_1(0:i) and witness_x_2(0:i)"
   ]
  },
  {
   "cell_type": "code",
   "execution_count": 15,
   "metadata": {
    "metadata": {}
   },
   "outputs": [],
   "source": [
    "\n",
    "from plonk.copy_constraint import copy_constraint_simple\n",
    "\n",
    "# we have to generate v1 and v2 after a, b and c have been fixed.\n",
    "v1 = hash(str(a + b + c))\n",
    "v2 = hash(str(c + a + b))\n",
    "\n",
    "eval_domain = range(0, len(a)*3)\n",
    "\n",
    "\n",
    "x, Y , Px_a, rlc = copy_constraint_simple(range(0,len(a)), witness_x_a, witness_y, v1, v2)\n",
    "x, Y , Px_b, rlc = copy_constraint_simple(range(len(a),len(a)*2), witness_x_b, witness_y, v1, v2)\n",
    "x, Y , Px_c, rlc = copy_constraint_simple(range(len(a)*2,len(a)*3), witness_x_c, witness_y, v1, v2)\n",
    "\n",
    "# calcualte permutated polynomial\n",
    "x_1, Y_1 , Px_a_prime, rlc_1 = copy_constraint_simple(range(0,len(a)), witness_x_a_perm, witness_y, v1, v2)\n",
    "x_1, Y_1 , Px_b_prime, rlc_1 = copy_constraint_simple(range(len(a),len(a)*2), witness_x_b_perm, witness_y, v1, v2)\n",
    "x_1, Y_1 , Px_c_prime, rlc_1 = copy_constraint_simple(range(len(a)*2,len(a)*3), witness_x_c_perm, witness_y, v1, v2)\n",
    "\n",
    "assert(Px_a[-1] * Px_b[-1] * Px_c[-1] == Px_a_prime[-1] * Px_b_prime[-1] * Px_c_prime[-1])\n",
    "assert(Px_a[0] == Px_b[0] == Px_c[0] == Px_a_prime[0] == Px_b_prime[0] == Px_c_prime[0] == 1 )"
   ]
  },
  {
   "cell_type": "markdown",
   "metadata": {},
   "source": [
    "So now we can evaluate many copy constraints by simply checking a single point. But the problem is that the verifier needs to compute the Px_a ... Px_c_prime. We want to come up with a way so that they don't need to evaluate these instead letting the prover produce an argument that they have evaluated them correctly and minimize the verifiers work. We will do that in after the next section. In the next section we will make a quick fft sidetrack cos we need that to make a performant prover. \n"
   ]
  },
  {
   "cell_type": "markdown",
   "metadata": {},
   "source": [
    "## Part x: FFT\n",
    "\n",
    "So you can see that it takes about 1.5 seconds for 100 points. In reality we will want to make proofs for systems that constain orders of magnatudes more variables in less than that time. So lets use FFT to speed it up. \n",
    "\n",
    "So this is based upon https://vitalik.ca/general/2019/05/12/fft.html which is good to read before you continue. \n",
    "\n",
    "TODO: possibly break this into a seperate tutorial\n",
    "\n",
    "Firstly fft stands for fast foruier transform. A foruier transform is basically evaluating a polynomial. There are two ways to represent polynomials \n",
    "\n",
    "1. Is via coefficients [1,0,3] is $1 + x^2$ where its represented by coefficients \n",
    "2. Is with evaulations calculate the foruier space (evaulation space) values. \n",
    "\n"
   ]
  },
  {
   "cell_type": "code",
   "execution_count": 16,
   "metadata": {
    "metadata": {}
   },
   "outputs": [
    {
     "name": "stdout",
     "output_type": "stream",
     "text": [
      "[1, 4, 13]\n"
     ]
    }
   ],
   "source": [
    "from plonk.poly import polynomial_eval\n",
    "\n",
    "poly = [1,0,3]\n",
    "fs = []\n",
    "fs.append(polynomial_eval(poly,0))\n",
    "fs.append(polynomial_eval(poly,1))\n",
    "fs.append(polynomial_eval(poly,2))\n",
    "print(fs)\n"
   ]
  },
  {
   "cell_type": "markdown",
   "metadata": {},
   "source": [
    "Both coefficient space and evaluation space uniquely identify the polynomial as long as it has been evaluated at a few positions. So what we did by evaluating the polynomial is a fourier transform. It is also possible to do an inverse foruier transform by basically interpolating the polynomial to find the coefficient form. \n",
    "\n"
   ]
  },
  {
   "cell_type": "code",
   "execution_count": 17,
   "metadata": {
    "metadata": {}
   },
   "outputs": [],
   "source": [
    "from scipy.interpolate import lagrange\n",
    "x = [0,1,2]\n",
    "res = lagrange(x,fs)\n",
    "res = [float(x) for x in reversed(res.coefficients)]\n",
    "assert(res == poly)"
   ]
  },
  {
   "cell_type": "markdown",
   "metadata": {},
   "source": [
    "Okay so we have gone to foruier space and back to coefficient space. But why? \n",
    "\n",
    "Well turns out in evaluation space it is easier to do things like multiplicaion and division. So lets do that now. Lets take the polynomial $1 + 3 x^2$ and multiply it by itself. Lets do it both ways in fourier space and in coordinate space. \n"
   ]
  },
  {
   "cell_type": "code",
   "execution_count": 18,
   "metadata": {
    "metadata": {}
   },
   "outputs": [],
   "source": [
    "res = [0]*len(poly)**2\n",
    "expected_result = [1,0,6,0,9,0,0,0,0]\n",
    "for i, coef1 in enumerate(poly):\n",
    "    for j, coef2 in enumerate(poly):\n",
    "        res[i+j] += coef1*coef2\n",
    "assert(res == expected_result)\n"
   ]
  },
  {
   "cell_type": "markdown",
   "metadata": {},
   "source": [
    "Okay so this took len(poly) ^ 2 operations. Lets try the fft version now. "
   ]
  },
  {
   "cell_type": "code",
   "execution_count": 19,
   "metadata": {
    "metadata": {}
   },
   "outputs": [],
   "source": [
    "from plonk.poly import polynomial_eval\n",
    "\n",
    "poly = [1,0,3]\n",
    "fs = []\n",
    "for i in range(0,9):\n",
    "    fs.append(polynomial_eval(poly,i))\n",
    "\n",
    "\n",
    "fs_res = [x*y for x,y in zip(fs,fs)]\n",
    "x = range(0,9)\n",
    "res = lagrange(x,fs_res)\n",
    "res = [int(x) for x in reversed(res.coefficients)]\n",
    "assert(res == expected_result)\n"
   ]
  },
  {
   "cell_type": "markdown",
   "metadata": {},
   "source": [
    "Okay so this tool len(poly)*2 operations to do the multiplicaions. But there is still a problem. Because the transform and inverse both cost more than the saving in operations we need to find a faster way to do this fourier transform. That is where the fast in fast fourier transform comes in. "
   ]
  },
  {
   "cell_type": "markdown",
   "metadata": {},
   "source": [
    "Okay so firstly lets evaluate a polynomial over prime feild. You just have to take the result % p."
   ]
  },
  {
   "cell_type": "code",
   "execution_count": 20,
   "metadata": {
    "metadata": {}
   },
   "outputs": [
    {
     "name": "stdout",
     "output_type": "stream",
     "text": [
      "Requirement already satisfied: ethsnarks in ./env/lib/python3.9/site-packages (0.0.1)\n",
      "Requirement already satisfied: bitstring in ./env/lib/python3.9/site-packages (from ethsnarks) (4.2.2)\n",
      "Requirement already satisfied: pyblake2 in ./env/lib/python3.9/site-packages (from ethsnarks) (1.1.2)\n",
      "Requirement already satisfied: py-ecc in ./env/lib/python3.9/site-packages (from ethsnarks) (7.0.1)\n",
      "Requirement already satisfied: pysha3 in ./env/lib/python3.9/site-packages (from ethsnarks) (1.0.2)\n",
      "Requirement already satisfied: bitarray<3.0.0,>=2.9.0 in ./env/lib/python3.9/site-packages (from bitstring->ethsnarks) (2.9.2)\n",
      "Requirement already satisfied: eth-utils>=2.0.0 in ./env/lib/python3.9/site-packages (from py-ecc->ethsnarks) (4.1.1)\n",
      "Requirement already satisfied: cached-property>=1.5.1 in ./env/lib/python3.9/site-packages (from py-ecc->ethsnarks) (1.5.2)\n",
      "Requirement already satisfied: eth-typing>=3.0.0 in ./env/lib/python3.9/site-packages (from py-ecc->ethsnarks) (4.2.3)\n",
      "Requirement already satisfied: eth-hash>=0.3.1 in ./env/lib/python3.9/site-packages (from eth-utils>=2.0.0->py-ecc->ethsnarks) (0.7.0)\n",
      "Requirement already satisfied: cytoolz>=0.10.1 in ./env/lib/python3.9/site-packages (from eth-utils>=2.0.0->py-ecc->ethsnarks) (0.12.3)\n",
      "Requirement already satisfied: toolz>=0.8.0 in ./env/lib/python3.9/site-packages (from cytoolz>=0.10.1->eth-utils>=2.0.0->py-ecc->ethsnarks) (0.12.1)\n",
      "\u001b[33mWARNING: You are using pip version 21.2.4; however, version 24.0 is available.\n",
      "You should consider upgrading via the '/Users/marcuspang/Desktop/Coding/pba/group-assignment-4/env/bin/python -m pip install --upgrade pip' command.\u001b[0m\n",
      "Note: you may need to restart the kernel to use updated packages.\n"
     ]
    }
   ],
   "source": [
    "%pip install ethsnarks"
   ]
  },
  {
   "cell_type": "code",
   "execution_count": 21,
   "metadata": {
    "metadata": {}
   },
   "outputs": [],
   "source": [
    "from plonk.fft.fft import polynomial_eval_prime\n",
    "# this evaluations 3 + x**2 at position 0 % 5\n",
    "assert(polynomial_eval_prime([3,0,1], 0, 5) == 3)\n",
    "# this evaluations 3 + x**2 at position 1 % 5\n",
    "assert(polynomial_eval_prime([3,0,1], 1, 5) == 4)\n",
    "# this evaluations 3 + x**2 at position 2 % 5\n",
    "assert(polynomial_eval_prime([3,0,1], 2, 5) == 2)"
   ]
  },
  {
   "cell_type": "markdown",
   "metadata": {},
   "source": [
    "Every prime feild has something called roots of unity. Which is a number x such that $x^n == 1$. "
   ]
  },
  {
   "cell_type": "code",
   "execution_count": 29,
   "metadata": {
    "metadata": {}
   },
   "outputs": [],
   "source": [
    "import sys\n",
    "sys.setrecursionlimit(10000)\n",
    "\n",
    "# python3 compatibility\n",
    "try:\n",
    "    foo = long\n",
    "except:\n",
    "    long = int\n",
    "\n",
    "# The prime modulus of the field\n",
    "field_modulus = 21888242871839275222246405745257275088696311157297823662689037894645226208583\n",
    "# See, it's prime!\n",
    "assert pow(2, field_modulus, field_modulus) == 2\n",
    "\n",
    "# The modulus of the polynomial in this representation of FQ12\n",
    "FQ12_modulus_coeffs = [82, 0, 0, 0, 0, 0, -18, 0, 0, 0, 0, 0] # Implied + [1]\n",
    "\n",
    "# Extended euclidean algorithm to find modular inverses for\n",
    "# integers\n",
    "def inv(a, n):\n",
    "    if a == 0:\n",
    "        return 0\n",
    "    lm, hm = 1, 0\n",
    "    low, high = a % n, n\n",
    "    while low > 1:\n",
    "        r = high//low\n",
    "        nm, new = hm-lm*r, high-low*r\n",
    "        lm, low, hm, high = nm, new, lm, low\n",
    "    return lm % n\n",
    "\n",
    "# A class for field elements in FQ. Wrap a number in this class,\n",
    "# and it becomes a field element.\n",
    "class FQ():\n",
    "    def __init__(self, n):\n",
    "        if isinstance(n, self.__class__):\n",
    "            self.n = n.n\n",
    "        else:\n",
    "            self.n = n % field_modulus\n",
    "        assert isinstance(self.n, (int, long))\n",
    "\n",
    "    def __add__(self, other):\n",
    "        on = other.n if isinstance(other, FQ) else other\n",
    "        return FQ((self.n + on) % field_modulus)\n",
    "\n",
    "    def __mul__(self, other):\n",
    "        on = other.n if isinstance(other, FQ) else other\n",
    "        return FQ((self.n * on) % field_modulus)\n",
    "\n",
    "    def __rmul__(self, other):\n",
    "        return self * other\n",
    "\n",
    "    def __radd__(self, other):\n",
    "        return self + other\n",
    "\n",
    "    def __rsub__(self, other):\n",
    "        on = other.n if isinstance(other, FQ) else other\n",
    "        return FQ((on - self.n) % field_modulus)\n",
    "\n",
    "    def __sub__(self, other):\n",
    "        on = other.n if isinstance(other, FQ) else other\n",
    "        return FQ((self.n - on) % field_modulus)\n",
    "\n",
    "    def __div__(self, other):\n",
    "        on = other.n if isinstance(other, FQ) else other\n",
    "        assert isinstance(on, (int, long))\n",
    "        return FQ(self.n * inv(on, field_modulus) % field_modulus)\n",
    "\n",
    "    def __truediv__(self, other):\n",
    "        return self.__div__(other)\n",
    "\n",
    "    def __rdiv__(self, other):\n",
    "        on = other.n if isinstance(other, FQ) else other\n",
    "        assert isinstance(on, (int, long)), on\n",
    "        return FQ(inv(self.n, field_modulus) * on % field_modulus)\n",
    "\n",
    "    def __rtruediv__(self, other):\n",
    "        return self.__rdiv__(other)\n",
    "\n",
    "    def __pow__(self, other):\n",
    "        if other == 0:\n",
    "            return FQ(1)\n",
    "        elif other == 1:\n",
    "            return FQ(self.n)\n",
    "        elif other % 2 == 0:\n",
    "            return (self * self) ** (other // 2)\n",
    "        else:\n",
    "            return ((self * self) ** int(other // 2)) * self\n",
    "\n",
    "    def __eq__(self, other):\n",
    "        if isinstance(other, FQ):\n",
    "            return self.n == other.n\n",
    "        else:\n",
    "            return self.n == other\n",
    "\n",
    "    def __ne__(self, other):\n",
    "        return not self == other\n",
    "\n",
    "    def __neg__(self):\n",
    "        return FQ(-self.n)\n",
    "\n",
    "    def __repr__(self):\n",
    "        return repr(self.n)\n",
    "\n",
    "    @classmethod\n",
    "    def one(cls):\n",
    "        return cls(1)\n",
    "\n",
    "    @classmethod\n",
    "    def zero(cls):\n",
    "        return cls(0)\n",
    "\n",
    "# Utility methods for polynomial math\n",
    "def deg(p):\n",
    "    d = len(p) - 1\n",
    "    while p[d] == 0 and d:\n",
    "        d -= 1\n",
    "    return d\n",
    "\n",
    "def poly_rounded_div(a, b):\n",
    "    dega = deg(a)\n",
    "    degb = deg(b)\n",
    "    temp = [x for x in a]\n",
    "    o = [0 for x in a]\n",
    "    for i in range(dega - degb, -1, -1):\n",
    "        o[i] += temp[degb + i] / b[degb]\n",
    "        for c in range(degb + 1):\n",
    "            temp[c + i] -= o[c]\n",
    "    return o[:deg(o)+1]\n",
    "\n",
    "# A class for elements in polynomial extension fields\n",
    "class FQP():\n",
    "    def __init__(self, coeffs, modulus_coeffs):\n",
    "        assert len(coeffs) == len(modulus_coeffs)\n",
    "        self.coeffs = [FQ(c) for c in coeffs]\n",
    "        # The coefficients of the modulus, without the leading [1]\n",
    "        self.modulus_coeffs = modulus_coeffs\n",
    "        # The degree of the extension field\n",
    "        self.degree = len(self.modulus_coeffs)\n",
    "\n",
    "    def __add__(self, other):\n",
    "        assert isinstance(other, self.__class__)\n",
    "        return self.__class__([x+y for x,y in zip(self.coeffs, other.coeffs)])\n",
    "\n",
    "    def __sub__(self, other):\n",
    "        assert isinstance(other, self.__class__)\n",
    "        return self.__class__([x-y for x,y in zip(self.coeffs, other.coeffs)])\n",
    "\n",
    "    def __mul__(self, other):\n",
    "        if isinstance(other, (FQ, int, long)):\n",
    "            return self.__class__([c * other for c in self.coeffs])\n",
    "        else:\n",
    "            assert isinstance(other, self.__class__)\n",
    "            b = [FQ(0) for i in range(self.degree * 2 - 1)]\n",
    "            for i in range(self.degree):\n",
    "                for j in range(self.degree):\n",
    "                    b[i + j] += self.coeffs[i] * other.coeffs[j]\n",
    "            while len(b) > self.degree:\n",
    "                exp, top = len(b) - self.degree - 1, b.pop()\n",
    "                for i in range(self.degree):\n",
    "                    b[exp + i] -= top * FQ(self.modulus_coeffs[i])\n",
    "            return self.__class__(b)\n",
    "\n",
    "    def __rmul__(self, other):\n",
    "        return self * other\n",
    "\n",
    "    def __div__(self, other):\n",
    "        if isinstance(other, (FQ, int, long)):\n",
    "            return self.__class__([c / other for c in self.coeffs])\n",
    "        else:\n",
    "            assert isinstance(other, self.__class__)\n",
    "            return self * other.inv()\n",
    "\n",
    "    def __truediv__(self, other):\n",
    "        return self.__div__(other)\n",
    "\n",
    "    def __pow__(self, other):\n",
    "        if other == 0:\n",
    "            return self.__class__([1] + [0] * (self.degree - 1))\n",
    "        elif other == 1:\n",
    "            return self.__class__(self.coeffs)\n",
    "        elif other % 2 == 0:\n",
    "            return (self * self) ** (other // 2)\n",
    "        else:\n",
    "            return ((self * self) ** int(other // 2)) * self\n",
    "\n",
    "    # Extended euclidean algorithm used to find the modular inverse\n",
    "    def inv(self):\n",
    "        lm, hm = [1] + [0] * self.degree, [0] * (self.degree + 1)\n",
    "        low, high = self.coeffs + [0], self.modulus_coeffs + [1]\n",
    "        while deg(low):\n",
    "            r = poly_rounded_div(high, low)\n",
    "            r += [0] * (self.degree + 1 - len(r))\n",
    "            nm = [x for x in hm]\n",
    "            new = [x for x in high]\n",
    "            assert len(lm) == len(hm) == len(low) == len(high) == len(nm) == len(new) == self.degree + 1\n",
    "            for i in range(self.degree + 1):\n",
    "                for j in range(self.degree + 1 - i):\n",
    "                    nm[i+j] -= lm[i] * r[j]\n",
    "                    new[i+j] -= low[i] * r[j]\n",
    "            lm, low, hm, high = nm, new, lm, low\n",
    "        return self.__class__(lm[:self.degree]) / low[0]\n",
    "\n",
    "    def __repr__(self):\n",
    "        return repr(self.coeffs)\n",
    "\n",
    "    def __eq__(self, other):\n",
    "        assert isinstance(other, self.__class__)\n",
    "        for c1, c2 in zip(self.coeffs, other.coeffs):\n",
    "            if c1 != c2:\n",
    "                return False\n",
    "        return True\n",
    "\n",
    "    def __ne__(self, other):\n",
    "        return not self == other\n",
    "\n",
    "    def __neg__(self):\n",
    "        return self.__class__([-c for c in self.coeffs])\n",
    "\n",
    "    @classmethod\n",
    "    def one(cls):\n",
    "        return cls([1] + [0] * (cls.degree - 1))\n",
    "\n",
    "    @classmethod\n",
    "    def zero(cls):\n",
    "        return cls([0] * cls.degree)\n",
    "\n",
    "# The quadratic extension field\n",
    "class FQ2(FQP):\n",
    "    def __init__(self, coeffs):\n",
    "        self.coeffs = [FQ(c) for c in coeffs]\n",
    "        self.modulus_coeffs = [1, 0]\n",
    "        self.degree = 2\n",
    "        self.__class__.degree = 2\n",
    "\n",
    "# The 12th-degree extension field\n",
    "class FQ12(FQP):\n",
    "    def __init__(self, coeffs):\n",
    "        self.coeffs = [FQ(c) for c in coeffs]\n",
    "        self.modulus_coeffs = FQ12_modulus_coeffs\n",
    "        self.degree = 12\n",
    "        self.__class__.degree = 12"
   ]
  },
  {
   "cell_type": "code",
   "execution_count": 30,
   "metadata": {
    "metadata": {}
   },
   "outputs": [],
   "source": [
    "# this evaluations 3 + x**2 at position 1\n",
    "# from py_ecc.bn128.bn128_field_elements import FQ as GF\n",
    "GF = FQ\n",
    "\n",
    "from ethsnarks import field\n",
    "\n",
    "def roots_of_unity(order):\n",
    "     a = field.FQ(5)\n",
    "     p = field.FQ(field.SNARK_SCALAR_FIELD)\n",
    "     return [a**(i*(p-1)/order) for i in range(order)]\n",
    "\n",
    "roots_2 = roots_of_unity(2)\n",
    "\n"
   ]
  },
  {
   "cell_type": "markdown",
   "metadata": {},
   "source": [
    "So lets take these roots and square them see what happens. "
   ]
  },
  {
   "cell_type": "code",
   "execution_count": 31,
   "metadata": {
    "metadata": {}
   },
   "outputs": [],
   "source": [
    "#assert(roots[0]**2 == roots[0])\n",
    "assert(roots_2[1]**2 == 1 )\n",
    "assert(roots_2[1]**3 == roots_2[1])\n",
    "assert(roots_2[1]**4 == 1)\n"
   ]
  },
  {
   "cell_type": "markdown",
   "metadata": {},
   "source": [
    "We see that they stay the same. Lets say that we have a polynomial above $3 + x  + x^2 + x^3 +  x^4$. If we want to evaluate it at a point $x^n = 1$ where $n = 2$. \n",
    "\n",
    "Lets say that we want to evaluate this polynomial at two points the naive thing to do is to  hen we can simply the above equation because we know that $x , x^3 == roots_2[1]$ and  \n",
    "\n",
    "Now lets use the roots of unity to accelerate the evaluation of the polynomial above. \n",
    "\n",
    "So we can save doing the squaring above because x^2 == x^4 for these roots. That lets us do the evaluation by summing 3 + roots[0] + roots[0] and 3 + root[1] + root[1]. \n",
    "\n"
   ]
  },
  {
   "cell_type": "code",
   "execution_count": 32,
   "metadata": {
    "metadata": {}
   },
   "outputs": [
    {
     "name": "stdout",
     "output_type": "stream",
     "text": [
      "3\n"
     ]
    }
   ],
   "source": [
    "p = field.SNARK_SCALAR_FIELD\n",
    "eval1 = 3 + roots_2[0] + roots_2[0] + roots_2[0] + roots_2[0]\n",
    "eval2 = 3 + roots_2[1] + roots_2[0] + roots_2[1] + roots_2[0]\n",
    "\n",
    "assert(polynomial_eval_prime([3,1,1,1,1], roots_2[0].n, p) == eval1)\n",
    "assert(polynomial_eval_prime([3,1,1,1,1], roots_2[1].n, p) == eval2)\n",
    "print(eval2)"
   ]
  },
  {
   "cell_type": "markdown",
   "metadata": {},
   "source": [
    "So the last part is a bit strange. Since eval2 == 3 even tho roots[1] = a pretty big number. The reason for this is that roots[0] == -roots[1] read about negative numbers in finite fields https://vitalik.ca/general/2017/11/22/starks_part_2.html\n",
    "\n",
    "So because a negative number squared is a positive number we only have to worry about half the domain for even powers. Check out the rest of https://vitalik.ca/general/2019/05/12/fft.html to fill in the details. \n",
    "\n",
    "Then write an fft that validates the testcase below"
   ]
  },
  {
   "cell_type": "code",
   "execution_count": 33,
   "metadata": {
    "metadata": {}
   },
   "outputs": [],
   "source": [
    "from plonk.fft.fft import fft\n",
    "p = field.SNARK_SCALAR_FIELD\n",
    "domain = roots_of_unity(8)\n",
    "poly = [3,1,4,1,5,9,2,6]\n",
    "result = []\n",
    "\n",
    "p_x = fft(p, domain, poly)\n",
    "\n",
    "for x in domain:\n",
    "    result.append(polynomial_eval_prime(poly, x.n, p, 1, 0))\n",
    "\n",
    "assert(p_x == result)\n"
   ]
  },
  {
   "cell_type": "markdown",
   "metadata": {},
   "source": [
    "And the same for ifft"
   ]
  },
  {
   "cell_type": "code",
   "execution_count": 34,
   "metadata": {
    "metadata": {}
   },
   "outputs": [],
   "source": [
    "from plonk.fft.fft import ifft, fft\n",
    "\n",
    "p = field.SNARK_SCALAR_FIELD\n",
    "domain = roots_of_unity(8)\n",
    "poly = [3,1,4,1,5,9,2,6]\n",
    "result = []\n",
    "\n",
    "p_x = fft(p, domain, poly)\n",
    "\n",
    "result = ifft(p, domain, p_x)\n",
    "\n",
    "assert(result == poly)\n"
   ]
  },
  {
   "cell_type": "markdown",
   "metadata": {},
   "source": [
    "Okay thats fft done. We can do fast evaluations of polynomials. Do multiplicaion and stuff in fourier space and then convert back to coefficient space.\n",
    "\n",
    "TODO: do this better"
   ]
  },
  {
   "cell_type": "markdown",
   "metadata": {},
   "source": [
    "## Part x: Divison of polynomials \n",
    "\n",
    "Okay the next thing we need to do is find how to divide polynomials efficiently. We can work out a basic algorithm that does this but lets do it in fourier space since that will work out as being a bit faster. \n",
    "\n",
    "Take the polynomial $1 + x$ and square it using fft."
   ]
  },
  {
   "cell_type": "code",
   "execution_count": 35,
   "metadata": {
    "metadata": {}
   },
   "outputs": [],
   "source": [
    "poly1 = [1,1,0,0,0,0,0,0]\n",
    "poly2 = [1,1,0,0,0,0,0,0]\n",
    "\n",
    "\n",
    "domain = roots_of_unity(8)\n",
    "\n",
    "poly1_fs = fft(p,domain, poly1)\n",
    "poly2_fs = fft(p,domain, poly2)\n",
    "\n",
    "res = [x*y for x,y in zip(poly1_fs, poly2_fs)]\n",
    "\n",
    "res = ifft(p,domain,res)\n",
    "\n",
    "assert(res  == [1, 2, 1, 0, 0, 0, 0, 0])"
   ]
  },
  {
   "cell_type": "markdown",
   "metadata": {},
   "source": [
    "Good now divide \n",
    "hint: remember to use field.FQ for it the division"
   ]
  },
  {
   "cell_type": "code",
   "execution_count": 36,
   "metadata": {
    "metadata": {}
   },
   "outputs": [],
   "source": [
    "poly1 = [1,2,1,0]\n",
    "poly2 = [1,1,0,0]\n",
    "\n",
    "\n",
    "domain = roots_of_unity(4)\n",
    "\n",
    "poly1_fs = fft(p,domain, poly1)\n",
    "poly2_fs = fft(p,domain, poly2)\n",
    "res = []\n",
    "for x,y in zip(poly1_fs, poly2_fs):\n",
    "    x = field.FQ(x)\n",
    "    y = field.FQ(y)\n",
    "    res.append((x/y).n)\n",
    "res = ifft(p,domain,res)\n",
    "assert(res  == [1, 1, 0, 0])"
   ]
  },
  {
   "cell_type": "markdown",
   "metadata": {},
   "source": [
    "Okay we can mutiply and divide in fft form which is cool. But what happens when we try and divide a polynomial by one that does not have a root? "
   ]
  },
  {
   "cell_type": "code",
   "execution_count": 37,
   "metadata": {
    "metadata": {}
   },
   "outputs": [
    {
     "name": "stdout",
     "output_type": "stream",
     "text": [
      "[13680151794899547015005983833359857890978056243232007815795651899964485005940, 13680151794899547015005983833359857890978056243232007815795651899964485005940, 13680151794899547012802023348211735969707399257288035113827103333255275613582, 13680151794899547012802023348211735969707399257288035113827103333255275613582]\n"
     ]
    }
   ],
   "source": [
    "poly1 = [1,1,1,0]\n",
    "poly2 = [1,1,0,0]\n",
    "\n",
    "\n",
    "domain = roots_of_unity(8)\n",
    "\n",
    "poly1_fs = fft(p,domain, poly1)\n",
    "poly2_fs = fft(p,domain, poly2)\n",
    "res = []\n",
    "for x,y in zip(poly1_fs, poly2_fs):\n",
    "    x = field.FQ(x)\n",
    "    y = field.FQ(y)\n",
    "    res.append((x/y).n)\n",
    "res = ifft(p,domain,res)\n",
    "print(res)\n"
   ]
  },
  {
   "cell_type": "markdown",
   "metadata": {},
   "source": [
    "TODO: find out the meaning of this polynomial\n",
    "\n"
   ]
  },
  {
   "cell_type": "markdown",
   "metadata": {},
   "source": [
    "Okay so now we are able to quickly divide polynomials using fft what do we want this for?\n",
    "\n",
    "\n",
    "Earlier we had polynomials that the verifier needed to multiply together in order to make sure they matched the data the prover sent. This work was square in the size of the polynomials which meant that our proof were not succinct. In order to make our proofs succinct we need to turn the verification into a bunch of polynomial evaluations. \n",
    "\n"
   ]
  },
  {
   "cell_type": "markdown",
   "metadata": {},
   "source": [
    "## Part x: is zero check\n",
    "\n",
    "So we are working with polynomials and we want to be sure that a polynomial equals zero everywhere inside a domain that we care about. So what we do is make it so that the roots of an equation are equal to zero everywhere we care about. \n",
    "    \n",
    "So we have a polynomial f(x) =  and we want to prove that it is zero at a bunch of places we care about say (x=1, x=2)\n",
    "    \n",
    "This is easy to do all we need to do is come up with a list of places that we care about (1,2,3) and rewrite our polynomial as the product of $z(x)*h(x) == f(x)$ where $z(x) = (x-1)(x-2)$\n",
    "\n",
    "So we have the polynomial $f(x) = x^4-10x^3+35x^2-50x+24$ and we have the polynomial $(x-2)(x-3) = x^2 -5x + 6$\n",
    "\n",
    "Use the polynomial division from above to calculate $h(x)$\n",
    "\n",
    "\n",
    "    \n",
    "    \n",
    "    "
   ]
  },
  {
   "cell_type": "code",
   "execution_count": 38,
   "metadata": {
    "metadata": {}
   },
   "outputs": [],
   "source": [
    "fx = [24 , -50, 35, -10, 1,0,0,0]\n",
    "zx = [6, -5, 1,0,0,0,0,0]\n",
    "\n",
    "domain = roots_of_unity(8)\n",
    "fx_fs = fft(p,domain, fx)\n",
    "zx_fs = fft(p,domain, zx)\n",
    "res = []\n",
    "for x,y in zip(fx_fs, zx_fs):\n",
    "    x = field.FQ(x)\n",
    "    y = field.FQ(y)\n",
    "    res.append((x/y).n)\n",
    "res = ifft(p,domain,res)\n",
    "\n",
    "#convert to negitive represtaionation\n",
    "\n",
    "hx = []\n",
    "for i in res:\n",
    "    if i > p / 2:\n",
    "        i = -(p - i)\n",
    "    hx.append(i)\n",
    "\n",
    "assert (hx == [4, -5, 1, 0,0,0,0,0])\n",
    "# [4, -5, 1] == (x-1)(x-4)\n"
   ]
  },
  {
   "cell_type": "markdown",
   "metadata": {},
   "source": [
    "todo: for some reason when i divide by x-1 it fails check this out.\n",
    "\n",
    "Okay so now we have a way of checking that a poylnomial == 0 at every point. That we define. Next what we want to do is remove the requirement for the verifier to multiply two polynomials together and check that the results are equal. \n",
    "\n",
    "So we avoid this by instead of checking the polynomial at every point we check it at a single random point. So the verifier has polynomial \n",
    "\n",
    "$f(x)$ and $h(x)*z(x)$ so what we do is generate a random number (rand) and evaluate $f(x)$ and $h(x)$ , $z(x)$ at rant then we assert that $f(rand) == h(rand) * z(rand)$"
   ]
  },
  {
   "cell_type": "code",
   "execution_count": 39,
   "metadata": {
    "metadata": {}
   },
   "outputs": [],
   "source": [
    "rand = hash(str(fx))\n",
    "assert(polynomial_eval_prime(fx,rand,p) == polynomial_eval_prime(zx, rand, p) * polynomial_eval_prime(hx, rand, p))"
   ]
  },
  {
   "cell_type": "markdown",
   "metadata": {},
   "source": [
    "Turns out that this is the case for the majority of points on fx , zx and hx. Becuase we generate the rand point to evaluate fx we will only know that after it is created. So an attacker would have to spend a very long time to try and generate a random number that passes the test. So the the thinking is that this is enough to secure plonk and only check a single point. "
   ]
  },
  {
   "cell_type": "markdown",
   "metadata": {},
   "source": [
    "## Part x: Polynomial commitments\n",
    "\n",
    "Okay so now we have succinct verification but these polynomials are really big. Here we will use polynomial commitments so that povers only need to commmit to their polynomials and open them at random points in order to convince a verifier. \n",
    "\n",
    "So we have a polynomial p = [5, 0, 2, 1] which is the same as $x^3 + 2x^2 + 0x + 5$ and we want to commit to it such that the commiter can open it at any point and convince a verifier that this is correct opening. \n",
    "\n",
    "So the first thing we are going to do is find a secret point that we will evaluate all our polynomials at. This secret point will be generated using a trusted setup. \n",
    "\n",
    "So to evaluate a polynomial we need to have a list of points x such that $(x , x^2, x^3, x^4 ... x^n)$\n",
    "\n",
    "So we can easily evaluate these by taking a point in g_1 and multiplying it by $secret^n$ for n in range(1,n) where n is the length of the polynomial we want to commit to."
   ]
  },
  {
   "cell_type": "code",
   "execution_count": 40,
   "metadata": {
    "metadata": {}
   },
   "outputs": [],
   "source": [
    "from py_ecc.bn128.bn128_curve import multiply, add, G1, G2 , FQ, neg\n",
    "from py_ecc.bn128.bn128_pairing import pairing\n",
    "\n",
    "from plonk.poly_commit import powers_of_tau\n",
    "poly = [5,0,2,1]\n",
    "secret = 1234\n",
    "g1, g2 = powers_of_tau(secret, len(poly))\n",
    "\n",
    "assert(g1 == [(1, 2), (5240721337203810155063577104887775964429040310352786870634285698927658009894, 8895618777946819312582035270689922760507554319433213576472857911545059134563), (6948375176493266981514273412529490307784532661099513628234608095184316458902, 18216600908385678342586247701838651916221324115124034844476606797464062286560), (13938208764793520230672803096399331546637544056917425701048277721869383690071, 17643137528866430994062863932942240127918427471357794446875411188797842000191), (11205499023060593757170025183462743313595252573361076357571209373922074319500, 10574276079570991118618272977314811771918167997289361521559698253334912778879)])\n"
   ]
  },
  {
   "cell_type": "markdown",
   "metadata": {},
   "source": [
    "Okay so now we need to evaluate our polynomial at this point "
   ]
  },
  {
   "cell_type": "code",
   "execution_count": 41,
   "metadata": {
    "metadata": {}
   },
   "outputs": [],
   "source": [
    "from plonk.poly_commit import poly_commit\n",
    "p_commit = poly_commit(poly, g1)\n",
    "\n",
    "assert(p_commit == (12751843803001521458487166996489945844735054316365547347615166726833607096115, 2774159934330533841376375186873158845895081394785984945802820943066298465301))"
   ]
  },
  {
   "cell_type": "markdown",
   "metadata": {},
   "source": [
    "Okay so now we have evaluated our polynomial at a secret point. This we call the polynomial commitment. But how do we evaluate it at an arbitary point? \n",
    "\n",
    "So we use a subtract and divide trick to do this we say \n",
    "\n",
    "$\\frac{p(secret) - a}{secret - z} = q(secret)$\n",
    "\n",
    "Where a is the result when we evaluate p at z. Two problems present themselves \n",
    "1. Secret is secret so how can't we evaluate the denomiator \n",
    "2. We have to ensure that q(x) is a polynomial with no remainder.\n",
    "\n",
    "We can easily solve 2 by using the commit and open trick from above. Where we commit to all polynomials and then AFTER that evaluate it at a single point. This means that if the points match with overwhelming probability the two polynomials are the same. \n",
    "\n",
    "We can solve 1 by doing the evaluation in the exponent of the pairing. So when we did our trusted setup we evaluated g1 which is the powers of all the x terms in the polynomial. So lets take a look at what we can do with pairings. First we can do homomorphic operations\n",
    "\n",
    "\n"
   ]
  },
  {
   "cell_type": "code",
   "execution_count": 42,
   "metadata": {
    "metadata": {}
   },
   "outputs": [],
   "source": [
    "from py_ecc.bn128.bn128_curve import multiply, add, G1, G2 , FQ, neg\n",
    "from py_ecc.bn128.bn128_pairing import pairing\n",
    "\n",
    "\n",
    "secret_1 = 1232\n",
    "secret_2 = 123123\n",
    "g_1 = multiply(G1,secret_1)\n",
    "g_2 = multiply(G2,secret_2)\n",
    "\n",
    "res = pairing(g_2, g_1)\n",
    "\n",
    "g_1 = multiply(G1,secret_2)\n",
    "g_2 = multiply(G2,secret_1)\n",
    "\n",
    "# we flip it and it still equals its homomorphic.\n",
    "assert(res == pairing(g_2, g_1))\n"
   ]
  },
  {
   "cell_type": "markdown",
   "metadata": {},
   "source": [
    "Secondly we can encrypt variables such that you don't need to know them to compute with them. So what I can do is take g_2 and share that with someone. Everyone can then calculate g_1 time g_2 but they will never know what secret_2 is. That is what we need to do here. So during our trusted setup we calculate `g_2` which is a `g_2` generator times a secret and once we throw away the secret there is not way to find the secret again. \n",
    "\n",
    "Okay lets evaluate the polynomial `p` at a randome x using the polynomial commitment to check it. "
   ]
  },
  {
   "cell_type": "code",
   "execution_count": 43,
   "metadata": {
    "metadata": {}
   },
   "outputs": [],
   "source": [
    "\n",
    "\n",
    "g1, g2 = powers_of_tau(1234, len(poly))\n",
    "\n",
    "poly = [5,0,2,1]\n",
    "p_commit = poly_commit(poly, g1)\n",
    "\n"
   ]
  },
  {
   "cell_type": "markdown",
   "metadata": {},
   "source": [
    "We want to evaluate this where z = 6 so lets evaluate the result of the polynomial at that point. "
   ]
  },
  {
   "cell_type": "code",
   "execution_count": 44,
   "metadata": {
    "metadata": {}
   },
   "outputs": [
    {
     "name": "stdout",
     "output_type": "stream",
     "text": [
      "21888242871839275222246405745257275088548364400416034343698204186575808495617\n"
     ]
    }
   ],
   "source": [
    "from plonk.fft.fft import polynomial_eval_prime\n",
    "\n",
    "z = [6]\n",
    "z_commit = poly_commit(z,g2)\n",
    "print(p)\n",
    "a = polynomial_eval_prime(poly, 6, p)\n",
    "a = [a]\n",
    "a_commit = poly_commit(a, g1)\n",
    "\n",
    "# q = p /  [-a,1]\n",
    "# todo use fft division from above to do this\n",
    "\n",
    "q = [48,8,1]\n",
    "q_commit = poly_commit(q, g1)\n",
    "\n",
    "# this is the polynomial 0 + x\n",
    "x = [0, 1]\n",
    "x_commit = poly_commit(x, g2)\n",
    "\n",
    "\n",
    "# evaluate the polynomials\n",
    "# p - a = q*(x-z)\n",
    "p = field.SNARK_SCALAR_FIELD\n",
    "\n",
    "lhs = polynomial_eval_prime(poly,z[0],p) - polynomial_eval_prime(a,z[0],p)\n",
    "rhs =  polynomial_eval_prime(q,z[0],p) * (polynomial_eval_prime(x,z[0],p) - z[0])\n",
    "\n",
    "assert(lhs == rhs)"
   ]
  },
  {
   "cell_type": "markdown",
   "metadata": {},
   "source": [
    "Okay when we evaluate the polynomial it works but lets use the pairing check."
   ]
  },
  {
   "cell_type": "code",
   "execution_count": 45,
   "metadata": {
    "metadata": {}
   },
   "outputs": [],
   "source": [
    "lhs = pairing(G2, add(p_commit,neg(a_commit)))\n",
    "rhs = pairing(add(x_commit,neg(z_commit)), q_commit)\n",
    "\n",
    "assert(lhs == rhs)"
   ]
  },
  {
   "cell_type": "markdown",
   "metadata": {},
   "source": [
    "TODO: Go a little slower here for the last step. Possibly break it out into calculating a, q, x , z and then do the pairing check. "
   ]
  },
  {
   "cell_type": "markdown",
   "metadata": {},
   "source": [
    "## Part x: Putting it all together\n",
    "Okay lets list the prover work , the verifier work and the setup work.\n",
    "\n",
    "### SETUP: \n",
    "\n",
    "#### Gate constraint\n",
    "\n",
    "#### Copy constraint\n",
    "\n",
    "### Prover:\n",
    "\n",
    "#### Gate constaints\n",
    "a, b ,c polynomial\n",
    "\n",
    "#### copy constraints\n",
    "\n",
    "#### polynomial commitment openings\n",
    "\n",
    "### Verifier:\n",
    "\n",
    "TODO: change zx to be the roots of unity version and not the naive (x-1)(x-2) this will make the zx polynoiail small and easy to verifiy. "
   ]
  },
  {
   "cell_type": "markdown",
   "metadata": {},
   "source": [
    "## Part x: Bounties\n"
   ]
  },
  {
   "cell_type": "markdown",
   "metadata": {},
   "source": [
    "Here are a bunch fo follow on ideas, the bounty is to add another section to this tutorial explaining the following\n",
    "\n",
    "1. Fix some TODOs\n",
    "2. Implement plookup\n",
    "3. Implement range proofs for plonk\n",
    "4. Implement build programming language on top of this\n",
    "5. Explore custom constraints \n",
    "6. There are a few security bugs in what we have implemented so far. Can you find them / fix them?\n",
    "7. Build semaphore on top of this\n",
    "\n",
    "TODO: Find out about adding bounties or rewards to these tasks. "
   ]
  }
 ],
 "metadata": {
  "kernelspec": {
   "display_name": "Python 3",
   "language": "python",
   "name": "python3"
  },
  "language_info": {
   "codemirror_mode": {
    "name": "ipython",
    "version": 3
   },
   "file_extension": ".py",
   "mimetype": "text/x-python",
   "name": "python",
   "nbconvert_exporter": "python",
   "pygments_lexer": "ipython3",
   "version": "3.9.6"
  }
 },
 "nbformat": 4,
 "nbformat_minor": 1
}
